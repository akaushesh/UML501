{
 "cells": [
  {
   "cell_type": "code",
   "execution_count": 44,
   "id": "de14bb06",
   "metadata": {},
   "outputs": [],
   "source": [
    "import numpy as np\n",
    "from itertools import product"
   ]
  },
  {
   "cell_type": "code",
   "execution_count": 18,
   "id": "cf8c6434",
   "metadata": {},
   "outputs": [
    {
     "name": "stdout",
     "output_type": "stream",
     "text": [
      "[1 2 3 4 5]\n",
      "[5 4 3 2 1]\n"
     ]
    }
   ],
   "source": [
    "# 1(a)\n",
    "arr = np.array([1, 2, 3, 4, 5])\n",
    "print(arr)\n",
    "\n",
    "arr = arr[::-1]\n",
    "print(arr)\n"
   ]
  },
  {
   "cell_type": "code",
   "execution_count": 19,
   "id": "74b6796c",
   "metadata": {},
   "outputs": [
    {
     "name": "stdout",
     "output_type": "stream",
     "text": [
      "[[1 2 3]\n",
      " [2 4 5]\n",
      " [1 2 3]]\n",
      "[1 2 3 2 4 5 1 2 3]\n",
      "[1 2 3 2 4 5 1 2 3]\n"
     ]
    }
   ],
   "source": [
    "# 1(b)\n",
    "array1 = np.array([[1,2,3],[2,4,5],[1,2,3]])\n",
    "print(array1)\n",
    "\n",
    "flat_arr_1 = array1.flatten()\n",
    "print(flat_arr_1)\n",
    "\n",
    "flat_arr_2 = array1.ravel()\n",
    "print(flat_arr_2)\n"
   ]
  },
  {
   "cell_type": "code",
   "execution_count": 20,
   "id": "0853e6a4",
   "metadata": {},
   "outputs": [
    {
     "name": "stdout",
     "output_type": "stream",
     "text": [
      "True\n"
     ]
    }
   ],
   "source": [
    "# 1(c)\n",
    "arr1 = np.array([[1,2],[3,4]])\n",
    "arr2 = np.array([[1,2],[3,4]])\n",
    "\n",
    "same = np.array_equal(arr1, arr2)\n",
    "print(same)"
   ]
  },
  {
   "cell_type": "code",
   "execution_count": 25,
   "id": "97d8362a",
   "metadata": {},
   "outputs": [
    {
     "name": "stdout",
     "output_type": "stream",
     "text": [
      "x: [1 2 3 4 5 1 2 1 1]\n",
      "Most frequent element in x: 1\n",
      "y: [1 1 1 2 3 4 2 4 3 3]\n",
      "Most frequent element in y: 1\n"
     ]
    }
   ],
   "source": [
    "# 1(d)\n",
    "x=np.array([1,2,3,4,5,1,2,1,1])\n",
    "y=np.array([1,1,1,2,3,4,2,4,3,3])\n",
    "\n",
    "print(\"x:\",x)\n",
    "x_cnt=np.bincount(x)\n",
    "print(\"Most frequent element in x:\", np.argmax(x_cnt))\n",
    "\n",
    "print(\"y:\",y)\n",
    "y_cnt=np.bincount(y)\n",
    "print(\"Most frequent element in y:\", np.argmax(y_cnt))\n"
   ]
  },
  {
   "cell_type": "code",
   "execution_count": 29,
   "id": "ebcabe5c",
   "metadata": {},
   "outputs": [
    {
     "name": "stdout",
     "output_type": "stream",
     "text": [
      "[[ 4  1  9]\n",
      " [12  3  1]\n",
      " [ 4  5  6]]\n",
      "Total sum: 45\n",
      "Row sum: [[14]\n",
      " [16]\n",
      " [15]]\n",
      "Column sum: [[20  9 16]]\n"
     ]
    }
   ],
   "source": [
    "# 1(e)\n",
    "gfg = np.matrix('[4,1,9 ; 12,3,1 ; 4,5,6]')\n",
    "print(gfg)\n",
    "\n",
    "total_sum = gfg.sum()\n",
    "row_sum = gfg.sum(axis=1)\n",
    "col_sum = gfg.sum(axis=0)\n",
    "print(\"Total sum:\", total_sum)\n",
    "print(\"Row sum:\", row_sum)\n",
    "print(\"Column sum:\", col_sum)\n",
    "\n"
   ]
  },
  {
   "cell_type": "code",
   "execution_count": 35,
   "id": "ba8ea75c",
   "metadata": {},
   "outputs": [
    {
     "name": "stdout",
     "output_type": "stream",
     "text": [
      "[[55 25 15]\n",
      " [30 44  2]\n",
      " [11 45 77]]\n",
      "Diagonal sum: 176\n",
      "Eigen values: [98.16835147 28.097044   49.73460452]\n",
      "Eigen vectors: [[ 0.4574917   0.34637121 -0.15017693]\n",
      " [ 0.28447814 -0.72784061 -0.4852124 ]\n",
      " [ 0.84248058  0.59184038  0.8614034 ]]\n",
      "Inverse matrix:  [[ 0.02404141 -0.00911212 -0.00444671]\n",
      " [-0.01667882  0.02966905  0.0024785 ]\n",
      " [ 0.00631287 -0.01603732  0.01217379]]\n",
      "Determinant: 137180.0000000001\n"
     ]
    }
   ],
   "source": [
    "# 1(f)\n",
    "n_array = np.array([[55, 25, 15], [30, 44, 2], [11, 45, 77]])\n",
    "print(n_array)\n",
    "\n",
    "dig_sum = np.trace(n_array)\n",
    "print(\"Diagonal sum:\", dig_sum)\n",
    "\n",
    "e_val = np.linalg.eigvals(n_array)\n",
    "print(\"Eigen values:\", e_val)\n",
    "\n",
    "e_vec = np.linalg.eig(n_array)[1]\n",
    "print(\"Eigen vectors:\", e_vec)\n",
    "\n",
    "inv_mat = np.linalg.inv(n_array)\n",
    "print(\"Inverse matrix: \", inv_mat)\n",
    "\n",
    "det = np.linalg.det(n_array)\n",
    "print(\"Determinant:\", det)"
   ]
  },
  {
   "cell_type": "code",
   "execution_count": 41,
   "id": "c3664424",
   "metadata": {},
   "outputs": [
    {
     "name": "stdout",
     "output_type": "stream",
     "text": [
      "Matrix multiplication: [[16 19]\n",
      " [26 31]]\n",
      "Covariance matrix: [[0.66666667 1.        ]\n",
      " [1.         1.66666667]]\n",
      "Matrix multiplication: [[16 19  5]\n",
      " [26 31  8]\n",
      " [46 55 14]]\n",
      "Covariance matrix: [[2.16666667 0.23333333]\n",
      " [0.23333333 5.36666667]]\n"
     ]
    }
   ],
   "source": [
    "# 1(g)\n",
    "p1 = np.array([[1, 2], [2, 3]])\n",
    "q1 = np.array([[4, 5], [6, 7]])\n",
    "\n",
    "multi1 = np.dot(p1, q1)\n",
    "cov1 = np.cov(p1.flatten(), q1.flatten())\n",
    "print(\"Matrix multiplication:\", multi1)\n",
    "print(\"Covariance matrix:\", cov1)\n",
    "\n",
    "p2 = np.array([[1, 2], [2, 3], [4, 5]])\n",
    "q2 = np.array([[4, 5, 1], [6, 7, 2]])\n",
    "\n",
    "multi2 = np.dot(p2, q2)\n",
    "cov2 = np.cov(p2.flatten(), q2.flatten())\n",
    "print(\"Matrix multiplication:\", multi2)\n",
    "print(\"Covariance matrix:\", cov2)\n"
   ]
  },
  {
   "cell_type": "code",
   "execution_count": 45,
   "id": "45b63456",
   "metadata": {},
   "outputs": [
    {
     "name": "stdout",
     "output_type": "stream",
     "text": [
      "Inner product: [[17 52]\n",
      " [13 62]]\n",
      "Outer product: [[ 2 10  0 10 20  6]\n",
      " [ 3 15  0 15 30  9]\n",
      " [ 4 20  0 20 40 12]\n",
      " [ 3 15  0 15 30  9]\n",
      " [ 2 10  0 10 20  6]\n",
      " [ 9 45  0 45 90 27]]\n",
      "Cartesian product: [[ 2  3  4  1  5  0]\n",
      " [ 2  3  4  5 10  3]\n",
      " [ 3  2  9  1  5  0]\n",
      " [ 3  2  9  5 10  3]]\n"
     ]
    }
   ],
   "source": [
    "# 1(h)\n",
    "x = np.array([[2, 3, 4], [3, 2, 9]])\n",
    "y = np.array([[1, 5, 0], [5, 10, 3]])\n",
    "\n",
    "inner = np.inner(x, y)\n",
    "outer = np.outer(x.flatten(), y.flatten())\n",
    "cartesian = np.array([np.concatenate([a, b]) for a, b in product(x, y)])\n",
    "\n",
    "print(\"Inner product:\", inner)\n",
    "print(\"Outer product:\", outer)\n",
    "print(\"Cartesian product:\", cartesian)"
   ]
  }
 ],
 "metadata": {
  "kernelspec": {
   "display_name": "venv (3.11.9)",
   "language": "python",
   "name": "python3"
  },
  "language_info": {
   "codemirror_mode": {
    "name": "ipython",
    "version": 3
   },
   "file_extension": ".py",
   "mimetype": "text/x-python",
   "name": "python",
   "nbconvert_exporter": "python",
   "pygments_lexer": "ipython3",
   "version": "3.11.9"
  }
 },
 "nbformat": 4,
 "nbformat_minor": 5
}
