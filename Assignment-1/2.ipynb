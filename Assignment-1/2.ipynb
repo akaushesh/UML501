{
 "cells": [
  {
   "cell_type": "code",
   "execution_count": 2,
   "id": "5fef0352",
   "metadata": {},
   "outputs": [],
   "source": [
    "import numpy as np"
   ]
  },
  {
   "cell_type": "code",
   "execution_count": 9,
   "id": "3470400d",
   "metadata": {},
   "outputs": [
    {
     "name": "stdout",
     "output_type": "stream",
     "text": [
      "[[ 1 -2  3]\n",
      " [-4  5 -6]]\n",
      "[[1 2 3]\n",
      " [4 5 6]]\n",
      "[-3.5 -0.5  2.5]\n",
      "[[-2.75 -0.25 -3.75]\n",
      " [-1.5   1.5  -1.5 ]\n",
      " [-0.25  3.25  0.75]]\n",
      "[[-0.5 -5. ]\n",
      " [ 1.  -4. ]\n",
      " [ 2.   0.5]]\n",
      "-0.5 -0.5 3.8622100754188224\n",
      "[-1.5  1.5 -1.5] [-1.5  1.5 -1.5] [2.5 3.5 4.5]\n",
      "[ 0.66666667 -1.66666667] [ 1. -4.] [2.05480467 4.78423336]\n"
     ]
    }
   ],
   "source": [
    "#1(a)\n",
    "array = np.array([[1, -2, 3],[-4, 5, -6]])\n",
    "print(array)\n",
    "\n",
    "#(i)\n",
    "abs_array = np.abs(array)\n",
    "print(abs_array)\n",
    "\n",
    "#(ii)\n",
    "flat = array.flatten()\n",
    "percentile_flat = np.percentile(flat, [25, 50, 75])\n",
    "print(percentile_flat)\n",
    "\n",
    "percentile_col = np.percentile(array, [25, 50, 75], axis=0)\n",
    "print(percentile_col)\n",
    "\n",
    "percentile_row = np.percentile(array, [25, 50, 75], axis=1)\n",
    "print(percentile_row)\n",
    "\n",
    "#(iii)\n",
    "mean_flat = np.mean(flat)\n",
    "median_flat = np.median(flat)\n",
    "sd_flat = np.std(flat)\n",
    "print(mean_flat, median_flat, sd_flat)\n",
    "\n",
    "mean_col = np.mean(array, axis=0)\n",
    "median_col = np.median(array, axis=0)\n",
    "sd_col = np.std(array, axis=0)\n",
    "print(mean_col, median_col, sd_col)\n",
    "\n",
    "mean_row = np.mean(array, axis=1)\n",
    "median_row = np.median(array, axis=1)\n",
    "sd_row = np.std(array, axis=1)\n",
    "print(mean_row, median_row, sd_row)\n"
   ]
  },
  {
   "cell_type": "code",
   "execution_count": 13,
   "id": "dc01ba4a",
   "metadata": {},
   "outputs": [
    {
     "name": "stdout",
     "output_type": "stream",
     "text": [
      "[-1.8 -1.6 -0.5  0.5  1.6  1.8  3. ]\n",
      "[-2. -2. -1.  0.  1.  1.  3.]\n",
      "[-1. -1. -0.  1.  2.  2.  3.]\n",
      "[-1. -1. -0.  0.  1.  1.  3.]\n",
      "[-2. -2. -0.  0.  2.  2.  3.]\n"
     ]
    }
   ],
   "source": [
    "# 2(b)\n",
    "a = np.array([-1.8, -1.6, -0.5, 0.5, 1.6, 1.8, 3.0])\n",
    "print(a)\n",
    "\n",
    "floor_a = np.floor(a)\n",
    "ceil_a = np.ceil(a)\n",
    "turncated_a = np.trunc(a)\n",
    "rounded_a = np.round(a)\n",
    "\n",
    "print(floor_a)\n",
    "print(ceil_a)\n",
    "print(turncated_a)\n",
    "print(rounded_a)"
   ]
  }
 ],
 "metadata": {
  "kernelspec": {
   "display_name": "venv (3.11.9)",
   "language": "python",
   "name": "python3"
  },
  "language_info": {
   "codemirror_mode": {
    "name": "ipython",
    "version": 3
   },
   "file_extension": ".py",
   "mimetype": "text/x-python",
   "name": "python",
   "nbconvert_exporter": "python",
   "pygments_lexer": "ipython3",
   "version": "3.11.9"
  }
 },
 "nbformat": 4,
 "nbformat_minor": 5
}
