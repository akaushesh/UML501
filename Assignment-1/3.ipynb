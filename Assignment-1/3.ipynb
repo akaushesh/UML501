{
 "cells": [
  {
   "cell_type": "code",
   "execution_count": 3,
   "id": "5b5dca2e",
   "metadata": {},
   "outputs": [],
   "source": [
    "import numpy as np"
   ]
  },
  {
   "cell_type": "code",
   "execution_count": null,
   "id": "43b5ae4c",
   "metadata": {},
   "outputs": [
    {
     "name": "stdout",
     "output_type": "stream",
     "text": [
      "[ 10  52  62  16  16  54 453]\n",
      "[ 10  16  16  52  54  62 453]\n",
      "[0 3 4 1 5 2 6]\n",
      "[16 10 16 52]\n",
      "[ 16  52  62  54 453]\n"
     ]
    }
   ],
   "source": [
    "# 3(a)\n",
    "array = np.array([10, 52, 62, 16, 16, 54, 453])\n",
    "print(array)\n",
    "\n",
    "# (i)\n",
    "sorted_array = np.sort(array)\n",
    "print(sorted_array)\n",
    "\n",
    "# (ii)\n",
    "indices = np.argsort(array)\n",
    "print(indices)\n",
    "\n",
    "# (iii)\n",
    "smallest_elements = np.partition(array, 4)[:4]\n",
    "print(smallest_elements)\n",
    "\n",
    "# (iv)\n",
    "largest_elements = np.partition(array, -5)[-5:]\n",
    "print(largest_elements)"
   ]
  },
  {
   "cell_type": "code",
   "execution_count": 9,
   "id": "41c3dad2",
   "metadata": {},
   "outputs": [
    {
     "name": "stdout",
     "output_type": "stream",
     "text": [
      "[1.  1.2 2.2 2.  3.  2. ]\n",
      "[1. 2. 3. 2.]\n",
      "[1.2 2.2]\n"
     ]
    }
   ],
   "source": [
    "# 3(b)\n",
    "arr = np.array([1.0, 1.2, 2.2, 2.0, 3.0, 2.0])\n",
    "print(arr)\n",
    "\n",
    "# (i)\n",
    "integers = arr[arr == arr.astype(int)]\n",
    "print(integers)\n",
    "\n",
    "# (ii)\n",
    "floats = arr[arr != arr.astype(int)]\n",
    "print(floats)\n"
   ]
  }
 ],
 "metadata": {
  "kernelspec": {
   "display_name": "venv (3.11.9)",
   "language": "python",
   "name": "python3"
  },
  "language_info": {
   "codemirror_mode": {
    "name": "ipython",
    "version": 3
   },
   "file_extension": ".py",
   "mimetype": "text/x-python",
   "name": "python",
   "nbconvert_exporter": "python",
   "pygments_lexer": "ipython3",
   "version": "3.11.9"
  }
 },
 "nbformat": 4,
 "nbformat_minor": 5
}
