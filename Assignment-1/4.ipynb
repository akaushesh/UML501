{
 "cells": [
  {
   "cell_type": "code",
   "execution_count": 8,
   "id": "50263c3e",
   "metadata": {},
   "outputs": [],
   "source": [
    "import cv2\n",
    "import numpy as np"
   ]
  },
  {
   "cell_type": "code",
   "execution_count": null,
   "id": "98c50c15",
   "metadata": {},
   "outputs": [],
   "source": [
    "def img_to_array(path):\n",
    "    image = cv2.imread(path)\n",
    "\n",
    "    if len(image.shape) == 2:  \n",
    "        np.savetxt(\"4_img.txt\", image, fmt='%d')\n",
    "    else:\n",
    "        h, w, c = image.shape  \n",
    "        image_2d = image.reshape(-1, c)\n",
    "        np.savetxt(\"4_img.txt\", image_2d, fmt='%d')"
   ]
  },
  {
   "cell_type": "code",
   "execution_count": 12,
   "id": "550c5512",
   "metadata": {},
   "outputs": [],
   "source": [
    "img_to_array(\"4_img.jpeg\")"
   ]
  },
  {
   "cell_type": "code",
   "execution_count": 16,
   "id": "0b24a161",
   "metadata": {},
   "outputs": [],
   "source": [
    "image = cv2.imread(\"4_img.jpeg\")\n",
    "if len(image.shape) == 2:  \n",
    "    loaded = np.loadtxt(\"4_img.txt\", dtype=int)\n",
    "    loaded = loaded.astype(np.uint8)\n",
    "else: \n",
    "    loaded_2d = np.loadtxt(\"4_img.txt\", dtype=int)\n",
    "    loaded = loaded_2d.reshape(image.shape).astype(np.uint8)"
   ]
  }
 ],
 "metadata": {
  "kernelspec": {
   "display_name": "venv (3.11.9)",
   "language": "python",
   "name": "python3"
  },
  "language_info": {
   "codemirror_mode": {
    "name": "ipython",
    "version": 3
   },
   "file_extension": ".py",
   "mimetype": "text/x-python",
   "name": "python",
   "nbconvert_exporter": "python",
   "pygments_lexer": "ipython3",
   "version": "3.11.9"
  }
 },
 "nbformat": 4,
 "nbformat_minor": 5
}
