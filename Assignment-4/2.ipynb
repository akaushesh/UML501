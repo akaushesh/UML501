{
 "cells": [
  {
   "cell_type": "code",
   "execution_count": null,
   "id": "4a94533a",
   "metadata": {},
   "outputs": [
    {
     "name": "stdout",
     "output_type": "stream",
     "text": [
      "Import done\n",
      "Movies found: 250\n"
     ]
    }
   ],
   "source": [
    "from selenium import webdriver\n",
    "from selenium.webdriver.common.by import By\n",
    "import pandas as pd\n",
    "import time\n",
    "\n",
    "print(\"Import done\")\n",
    "\n",
    "driver = webdriver.Chrome()\n",
    "driver.get(\"https://www.imdb.com/chart/top/\")\n",
    "time.sleep(5)\n",
    "\n",
    "movies = driver.find_elements(By.CSS_SELECTOR, \"ul.ipc-metadata-list li.ipc-metadata-list-summary-item\")\n",
    "print(len(movies))\n",
    "\n",
    "data = []\n",
    "for idx, movie in enumerate(movies):\n",
    "    rank = idx + 1\n",
    "    title = movie.find_element(By.CSS_SELECTOR, \"h3.ipc-title__text\").text.split(\". \")[-1]\n",
    "    year = movie.find_element(By.CSS_SELECTOR, \"span.cli-title-metadata-item\").text\n",
    "    rating = movie.find_element(By.CSS_SELECTOR, \"span.ipc-rating-star--rating\").text\n",
    "    data.append([rank, title, year, rating])\n",
    "\n",
    "driver.quit()\n",
    "\n",
    "df = pd.DataFrame(data, columns=['Rank', 'Title', 'Year of Release', 'IMDB Rating'])\n",
    "df.to_csv(\"imdbTop250.csv\", index=False)"
   ]
  }
 ],
 "metadata": {
  "kernelspec": {
   "display_name": "venv (3.11.9)",
   "language": "python",
   "name": "python3"
  },
  "language_info": {
   "codemirror_mode": {
    "name": "ipython",
    "version": 3
   },
   "file_extension": ".py",
   "mimetype": "text/x-python",
   "name": "python",
   "nbconvert_exporter": "python",
   "pygments_lexer": "ipython3",
   "version": "3.11.9"
  }
 },
 "nbformat": 4,
 "nbformat_minor": 5
}
