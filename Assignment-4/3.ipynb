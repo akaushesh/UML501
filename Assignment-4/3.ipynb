{
 "cells": [
  {
   "cell_type": "code",
   "execution_count": 5,
   "id": "02d90c2d",
   "metadata": {},
   "outputs": [
    {
     "name": "stdout",
     "output_type": "stream",
     "text": [
      "Import done\n",
      "47\n"
     ]
    }
   ],
   "source": [
    "from selenium import webdriver\n",
    "from selenium.webdriver.common.by import By\n",
    "import pandas as pd\n",
    "import time\n",
    "\n",
    "print(\"Import done\")\n",
    "\n",
    "driver = webdriver.Chrome()\n",
    "driver.get(\"https://www.timeanddate.com/weather/\")\n",
    "time.sleep(5)\n",
    "\n",
    "all_cities = []\n",
    "rows = driver.find_elements(By.CSS_SELECTOR, \"table.zebra.tb-theme tbody tr\")\n",
    "\n",
    "print(len(rows))\n",
    "\n",
    "for row in rows:\n",
    "    cells = row.find_elements(By.TAG_NAME, \"td\")\n",
    "    for i in range(0, len(cells), 4):\n",
    "        try:\n",
    "            city_tag = cells[i].find_element(By.TAG_NAME, \"a\")\n",
    "            city_name = city_tag.text\n",
    "            weather_tag = cells[i+2].find_element(By.TAG_NAME, \"img\")\n",
    "            weather = weather_tag.get_attribute(\"title\")\n",
    "            temp = cells[i+3].text\n",
    "            all_cities.append([city_name, temp, weather])\n",
    "        except:\n",
    "            pass\n",
    "\n",
    "driver.quit()\n",
    "\n",
    "df = pd.DataFrame(all_cities, columns=[\"City Name\", \"Temperature\", \"Weather Condition\"])\n",
    "df.to_csv(\"weather.csv\", index=False)"
   ]
  }
 ],
 "metadata": {
  "kernelspec": {
   "display_name": "venv (3.11.9)",
   "language": "python",
   "name": "python3"
  },
  "language_info": {
   "codemirror_mode": {
    "name": "ipython",
    "version": 3
   },
   "file_extension": ".py",
   "mimetype": "text/x-python",
   "name": "python",
   "nbconvert_exporter": "python",
   "pygments_lexer": "ipython3",
   "version": "3.11.9"
  }
 },
 "nbformat": 4,
 "nbformat_minor": 5
}
