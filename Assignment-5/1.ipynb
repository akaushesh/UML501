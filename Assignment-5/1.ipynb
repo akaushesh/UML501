{
 "cells": [
  {
   "cell_type": "code",
   "execution_count": 3,
   "id": "e5a4584b",
   "metadata": {},
   "outputs": [
    {
     "name": "stdout",
     "output_type": "stream",
     "text": [
      "Best Learning Rate: 0.01\n",
      "Best Regularization (λ): 1e-15\n",
      "Minimum Cost: 0.147080\n",
      "Maximum R² Score: 0.949561\n",
      "Training R² Score: 0.948472\n",
      "Testing  R² Score: 0.949561\n"
     ]
    },
    {
     "name": "stderr",
     "output_type": "stream",
     "text": [
      "/Users/ak/Desktop/Sem 5/ML/UML501/venv/lib/python3.11/site-packages/numpy/_core/fromnumeric.py:86: RuntimeWarning: overflow encountered in reduce\n",
      "  return ufunc.reduce(obj, axis, dtype, out, **passkwargs)\n"
     ]
    },
    {
     "data": {
      "image/png": "[encoded data removed]",
      "text/plain": [
       "<Figure size 700x500 with 1 Axes>"
      ]
     },
     "metadata": {},
     "output_type": "display_data"
    },
    {
     "name": "stdout",
     "output_type": "stream",
     "text": [
      "\n",
      "Sample Predictions (Actual vs Predicted):\n",
      "Actual: -0.023   Predicted: 1.306\n",
      "Actual: 2.490   Predicted: 2.378\n",
      "Actual: -4.168   Predicted: -4.507\n",
      "Actual: -0.447   Predicted: -1.181\n",
      "Actual: -2.865   Predicted: -2.706\n",
      "Actual: 2.005   Predicted: 2.461\n",
      "Actual: -2.105   Predicted: -2.460\n",
      "Actual: -2.581   Predicted: -2.489\n",
      "Actual: 1.769   Predicted: 1.549\n",
      "Actual: -2.096   Predicted: -1.673\n"
     ]
    }
   ],
   "source": [
    "import numpy as np\n",
    "import matplotlib.pyplot as plt\n",
    "from sklearn.model_selection import train_test_split\n",
    "from sklearn.metrics import r2_score\n",
    "\n",
    "np.random.seed(42)\n",
    "n_samples = 1000\n",
    "x1 = np.random.randn(n_samples)\n",
    "x2 = x1 + np.random.normal(0, 0.1, n_samples)\n",
    "x3 = x1 + x2 + np.random.normal(0, 0.1, n_samples)\n",
    "x4 = 0.5 * x1 + 0.3 * x2 + np.random.normal(0, 0.1, n_samples)\n",
    "x5 = x2 + x3 + np.random.normal(0, 0.1, n_samples)\n",
    "x6 = 2 * x1 - x3 + np.random.normal(0, 0.1, n_samples)\n",
    "x7 = x4 + x5 + x6 + np.random.normal(0, 0.1, n_samples)\n",
    "X = np.column_stack([x1, x2, x3, x4, x5, x6, x7])\n",
    "y = 3*x1 + 2*x2 - 1.5*x3 + 0.5*x4 + np.random.normal(0, 0.5, n_samples)\n",
    "X_train, X_test, y_train, y_test = train_test_split(X, y, test_size=0.2, random_state=42)\n",
    "\n",
    "def ridge_cost(X, y, weights, lam):\n",
    "    n = len(y)\n",
    "    y_pred = X.dot(weights)\n",
    "    cost = (1/(2*n)) * np.sum((y_pred - y)**2) + (lam/(2*n)) * np.sum(weights[1:]**2)\n",
    "    return cost\n",
    "\n",
    "def ridge_gradient_descent(X, y, lr, lam, epochs=1000):\n",
    "    n, m = X.shape\n",
    "    weights = np.zeros(m)\n",
    "    cost_history = []\n",
    "    for _ in range(epochs):\n",
    "        y_pred = X.dot(weights)\n",
    "        gradient = (1/n) * X.T.dot(y_pred - y) + (lam/n) * np.r_[0, weights[1:]]\n",
    "        weights -= lr * gradient\n",
    "        cost_history.append(ridge_cost(X, y, weights, lam))\n",
    "        if np.isnan(cost_history[-1]) or np.isinf(cost_history[-1]):\n",
    "            return None, None  # Diverged\n",
    "    return weights, cost_history\n",
    "\n",
    "X_train_b = np.c_[np.ones((X_train.shape[0], 1)), X_train]\n",
    "X_test_b = np.c_[np.ones((X_test.shape[0], 1)), X_test]\n",
    "\n",
    "learning_rates = [0.0001, 0.001, 0.01, 0.1, 1, 10]\n",
    "lambdas = [1e-15, 1e-10, 1e-5, 1e-3, 0, 1, 10, 20]\n",
    "best_r2 = -np.inf\n",
    "best_cost = np.inf\n",
    "best_params = None\n",
    "best_weights = None\n",
    "best_history = None\n",
    "\n",
    "for lr in learning_rates:\n",
    "    for lam in lambdas:\n",
    "        weights, cost_history = ridge_gradient_descent(X_train_b, y_train, lr, lam, epochs=1000)\n",
    "        if weights is None:  \n",
    "            continue\n",
    "        y_pred = X_test_b.dot(weights)\n",
    "        if np.any(np.isnan(y_pred)) or np.any(np.isinf(y_pred)):\n",
    "            continue\n",
    "        cost = ridge_cost(X_test_b, y_test, weights, lam)\n",
    "        r2 = r2_score(y_test, y_pred)\n",
    "        if (r2 > best_r2) or (r2 == best_r2 and cost < best_cost):\n",
    "            best_r2 = r2\n",
    "            best_cost = cost\n",
    "            best_params = (lr, lam)\n",
    "            best_weights = weights\n",
    "            best_history = cost_history\n",
    "print(f\"Best Learning Rate: {best_params[0]}\")\n",
    "print(f\"Best Regularization (λ): {best_params[1]}\")\n",
    "print(f\"Minimum Cost: {best_cost:.6f}\")\n",
    "print(f\"Maximum R² Score: {best_r2:.6f}\")\n",
    "\n",
    "y_pred_train = X_train_b.dot(best_weights)\n",
    "y_pred_test = X_test_b.dot(best_weights)\n",
    "print(f\"Training R² Score: {r2_score(y_train, y_pred_train):.6f}\")\n",
    "print(f\"Testing  R² Score: {r2_score(y_test, y_pred_test):.6f}\")\n",
    "plt.figure(figsize=(7,5))\n",
    "plt.plot(best_history)\n",
    "plt.title(f\"Cost over Iterations (LR={best_params[0]}, λ={best_params[1]})\")\n",
    "plt.xlabel(\"Iterations\")\n",
    "plt.ylabel(\"Cost\")\n",
    "plt.grid(True)\n",
    "plt.show()\n",
    "print(\"\\nSample Predictions (Actual vs Predicted):\")\n",
    "for actual, pred in zip(y_test[:10], X_test_b.dot(best_weights)[:10]):\n",
    "    print(f\"Actual: {actual:.3f}   Predicted: {pred:.3f}\")"
   ]
  }
 ],
 "metadata": {
  "kernelspec": {
   "display_name": "venv (3.11.9)",
   "language": "python",
   "name": "python3"
  },
  "language_info": {
   "codemirror_mode": {
    "name": "ipython",
    "version": 3
   },
   "file_extension": ".py",
   "mimetype": "text/x-python",
   "name": "python",
   "nbconvert_exporter": "python",
   "pygments_lexer": "ipython3",
   "version": "3.11.9"
  }
 },
 "nbformat": 4,
 "nbformat_minor": 5
}
