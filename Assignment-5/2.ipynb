{
 "cells": [
  {
   "cell_type": "code",
   "execution_count": 4,
   "id": "7c2e83d5",
   "metadata": {},
   "outputs": [
    {
     "name": "stdout",
     "output_type": "stream",
     "text": [
      "Linear Regression    →  MSE: 128284.345   |   R²: 0.291\n",
      "Ridge Regression     →  MSE: 126603.903   |   R²: 0.300\n",
      "Lasso Regression     →  MSE: 126678.115   |   R²: 0.300\n",
      "\n",
      "Best Performing Model: Ridge Regression\n"
     ]
    },
    {
     "name": "stderr",
     "output_type": "stream",
     "text": [
      "/var/folders/y4/pvfbznfx1b30_przcw64l_j00000gn/T/ipykernel_60713/3210923022.py:12: SettingWithCopyWarning: \n",
      "A value is trying to be set on a copy of a slice from a DataFrame.\n",
      "Try using .loc[row_indexer,col_indexer] = value instead\n",
      "\n",
      "See the caveats in the documentation: https://pandas.pydata.org/pandas-docs/stable/user_guide/indexing.html#returning-a-view-versus-a-copy\n",
      "  df[col] = pd.Categorical(df[col]).codes\n",
      "/var/folders/y4/pvfbznfx1b30_przcw64l_j00000gn/T/ipykernel_60713/3210923022.py:12: SettingWithCopyWarning: \n",
      "A value is trying to be set on a copy of a slice from a DataFrame.\n",
      "Try using .loc[row_indexer,col_indexer] = value instead\n",
      "\n",
      "See the caveats in the documentation: https://pandas.pydata.org/pandas-docs/stable/user_guide/indexing.html#returning-a-view-versus-a-copy\n",
      "  df[col] = pd.Categorical(df[col]).codes\n",
      "/var/folders/y4/pvfbznfx1b30_przcw64l_j00000gn/T/ipykernel_60713/3210923022.py:12: SettingWithCopyWarning: \n",
      "A value is trying to be set on a copy of a slice from a DataFrame.\n",
      "Try using .loc[row_indexer,col_indexer] = value instead\n",
      "\n",
      "See the caveats in the documentation: https://pandas.pydata.org/pandas-docs/stable/user_guide/indexing.html#returning-a-view-versus-a-copy\n",
      "  df[col] = pd.Categorical(df[col]).codes\n",
      "/Users/ak/Desktop/Sem 5/ML/UML501/venv/lib/python3.11/site-packages/sklearn/utils/extmath.py:203: RuntimeWarning: divide by zero encountered in matmul\n",
      "  ret = a @ b\n",
      "/Users/ak/Desktop/Sem 5/ML/UML501/venv/lib/python3.11/site-packages/sklearn/utils/extmath.py:203: RuntimeWarning: overflow encountered in matmul\n",
      "  ret = a @ b\n",
      "/Users/ak/Desktop/Sem 5/ML/UML501/venv/lib/python3.11/site-packages/sklearn/utils/extmath.py:203: RuntimeWarning: invalid value encountered in matmul\n",
      "  ret = a @ b\n"
     ]
    }
   ],
   "source": [
    "import numpy as np\n",
    "import pandas as pd\n",
    "from sklearn.model_selection import train_test_split\n",
    "from sklearn.preprocessing import StandardScaler\n",
    "from sklearn.linear_model import LinearRegression, Ridge, Lasso\n",
    "from sklearn.metrics import r2_score, mean_squared_error\n",
    "import statsmodels.api as sm\n",
    "\n",
    "df = sm.datasets.get_rdataset(\"Hitters\", \"ISLR\").data\n",
    "df = df.dropna()\n",
    "for col in df.select_dtypes(include=['object']).columns:\n",
    "    df[col] = pd.Categorical(df[col]).codes\n",
    "\n",
    "y = df['Salary']\n",
    "X = df.drop(columns=['Salary'])\n",
    "\n",
    "X_train, X_test, y_train, y_test = train_test_split(X, y, test_size=0.2, random_state=42)\n",
    "scaler = StandardScaler()\n",
    "X_train_scaled = scaler.fit_transform(X_train)\n",
    "X_test_scaled  = scaler.transform(X_test)\n",
    "\n",
    "lr = LinearRegression().fit(X_train_scaled, y_train)\n",
    "ridge = Ridge(alpha=0.5748).fit(X_train_scaled, y_train)\n",
    "lasso = Lasso(alpha=0.5748, max_iter=10000).fit(X_train_scaled, y_train)\n",
    "\n",
    "y_pred_lr = lr.predict(X_test_scaled)\n",
    "y_pred_ridge = ridge.predict(X_test_scaled)\n",
    "y_pred_lasso = lasso.predict(X_test_scaled)\n",
    "\n",
    "def eval_model(name, y_true, y_pred):\n",
    "    mse = mean_squared_error(y_true, y_pred)\n",
    "    r2 = r2_score(y_true, y_pred)\n",
    "    print(f\"{name:<20} →  MSE: {mse:.3f}   |   R²: {r2:.3f}\")\n",
    "    return r2\n",
    "\n",
    "r2_lr = eval_model(\"Linear Regression\", y_test, y_pred_lr)\n",
    "r2_ridge = eval_model(\"Ridge Regression\", y_test, y_pred_ridge)\n",
    "r2_lasso = eval_model(\"Lasso Regression\", y_test, y_pred_lasso)\n",
    "\n",
    "best_model = max([(r2_lr, \"Linear Regression\"), (r2_ridge, \"Ridge Regression\"), (r2_lasso, \"Lasso Regression\")])[1]\n",
    "print(f\"\\nBest Performing Model: {best_model}\")"
   ]
  }
 ],
 "metadata": {
  "kernelspec": {
   "display_name": "venv (3.11.9)",
   "language": "python",
   "name": "python3"
  },
  "language_info": {
   "codemirror_mode": {
    "name": "ipython",
    "version": 3
   },
   "file_extension": ".py",
   "mimetype": "text/x-python",
   "name": "python",
   "nbconvert_exporter": "python",
   "pygments_lexer": "ipython3",
   "version": "3.11.9"
  }
 },
 "nbformat": 4,
 "nbformat_minor": 5
}
